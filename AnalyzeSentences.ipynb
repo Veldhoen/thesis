{
 "cells": [
  {
   "cell_type": "code",
   "execution_count": 2,
   "metadata": {
    "collapsed": true
   },
   "outputs": [],
   "source": [
    "import pickle\n",
    "import IORNN\n",
    "import naturalLogicCopy as NL\n",
    "import numpy as np\n",
    "import scipy"
   ]
  },
  {
   "cell_type": "code",
   "execution_count": 20,
   "metadata": {
    "collapsed": false
   },
   "outputs": [],
   "source": [
    "with open('data/WSJTREES.pik','rb') as f:\n",
    "    examples = pickle.load(f)\n",
    "testbit = examples['TEST']\n",
    "with open('data/WSJVOC.pik','rb') as f:\n",
    "    vocabulary = pickle.load(f)"
   ]
  },
  {
   "cell_type": "code",
   "execution_count": 27,
   "metadata": {
    "collapsed": false
   },
   "outputs": [],
   "source": [
    "nws = []\n",
    "for e in testbit:\n",
    "    leaves = e[0][0].leaves()\n",
    "    sentence = ' '.join([l.strip('\"') for l in leaves])\n",
    "    nws.append((NL.iornnFromTree(e[0][0],vocabulary),sentence))\n",
    "        "
   ]
  },
  {
   "cell_type": "code",
   "execution_count": 15,
   "metadata": {
    "collapsed": false
   },
   "outputs": [
    {
     "data": {
      "text/plain": [
       "(22923, 1486, 6010)"
      ]
     },
     "execution_count": 15,
     "metadata": {},
     "output_type": "execute_result"
    }
   ],
   "source": [
    "len(examples['TRAIN']),len(examples['TRIAL']),len(examples['TEST'])"
   ]
  },
  {
   "cell_type": "code",
   "execution_count": 28,
   "metadata": {
    "collapsed": false
   },
   "outputs": [
    {
     "data": {
      "text/plain": [
       "(<IORNN.Node instance at 0x0000000070F5C308>,\n",
       " 'Rolls-Royce Motor Cars Inc. said it expects its U.S. sales to remain steady at about 1,200 cars in 1990')"
      ]
     },
     "execution_count": 28,
     "metadata": {},
     "output_type": "execute_result"
    }
   ],
   "source": [
    "nw = nws[0][0]\n",
    "s = nws[0][1]\n",
    "nw,s"
   ]
  },
  {
   "cell_type": "code",
   "execution_count": 29,
   "metadata": {
    "collapsed": true
   },
   "outputs": [],
   "source": [
    "with open('data/sickSampleTREES.pik','rb') as f:\n",
    "    trees = pickle.load(f)\n",
    "with open('models/sickSample001SENTENCES.pik','rb') as f:\n",
    "    sentences = pickle.load(f)\n",
    "with open('models/sickSample001VOC.pik','rb') as f:\n",
    "    vocabulary = pickle.load(f)\n",
    "with open('models/sickSample001THETA.pik','rb') as f:\n",
    "    theta = pickle.load(f)\n"
   ]
  },
  {
   "cell_type": "code",
   "execution_count": 4,
   "metadata": {
    "collapsed": false
   },
   "outputs": [],
   "source": [
    "with open('data/WSJTREES.pik','rb') as f:\n",
    "    trees = pickle.load(f)\n",
    "with open('models/WSJ104SENTENCES.pik','rb') as f:\n",
    "    sentences = pickle.load(f)\n",
    "with open('models/WSJ104VOC.pik','rb') as f:\n",
    "    vocabulary = pickle.load(f)\n",
    "with open('models/WSJ104THETA.pik','rb') as f:\n",
    "    theta = pickle.load(f)\n"
   ]
  },
  {
   "cell_type": "code",
   "execution_count": 6,
   "metadata": {
    "collapsed": false
   },
   "outputs": [],
   "source": [
    "#trees['TEST'][0]\n",
    "sents = [s[0] for s in sentences]\n",
    "embs = [s[1] for s in sentences]\n",
    "eusimilarity = np.ones((len(sents),len(sents)))\n",
    "cossimilarity = np.ones((len(sents),len(sents)))\n",
    "for i in xrange(len(sents)):\n",
    "    for j in xrange(i,len(sents)):\n",
    "        d1 = np.linalg.norm(embs[i]-embs[j])\n",
    "        eusimilarity[i][j] = d1\n",
    "        eusimilarity[j][i] = d1\n",
    "        d2 = scipy.spatial.distance.cosine(embs[i],embs[j])\n",
    "        cossimilarity[i][j] = d2\n",
    "        cossimilarity[j][i] = d2"
   ]
  },
  {
   "cell_type": "code",
   "execution_count": 11,
   "metadata": {
    "collapsed": false
   },
   "outputs": [
    {
     "name": "stdout",
     "output_type": "stream",
     "text": [
      "i: rolls-royce-NNP motor cars inc. said it expects its u.s. sales to remain steady at about 1,200 cars in 1990\n",
      "Euclidean: 0 rolls-royce-NNP motor cars inc. said it expects its u.s. sales to remain steady at about 1,200 cars in 1990\n",
      "Cosine: 0 rolls-royce-NNP motor cars inc. said it expects its u.s. sales to remain steady at about 1,200 cars in 1990 \n",
      "\n",
      "i: howard mosher-NNP president and chief executive officer said he anticipates growth for the luxury auto maker in britain and europe and in far eastern markets\n",
      "Euclidean: 1 howard mosher-NNP president and chief executive officer said he anticipates growth for the luxury auto maker in britain and europe and in far eastern markets\n",
      "Cosine: 1 howard mosher-NNP president and chief executive officer said he anticipates growth for the luxury auto maker in britain and europe and in far eastern markets \n",
      "\n",
      "i: a sec proposal to ease reporting requirements for some company executives would undermine the usefulness-NN of information on insider trades as a stock-picking-JJ tool individual investors and professional money managers contend\n",
      "Euclidean: 2 a sec proposal to ease reporting requirements for some company executives would undermine the usefulness-NN of information on insider trades as a stock-picking-JJ tool individual investors and professional money managers contend\n",
      "Cosine: 2 a sec proposal to ease reporting requirements for some company executives would undermine the usefulness-NN of information on insider trades as a stock-picking-JJ tool individual investors and professional money managers contend \n",
      "\n",
      "i: the rules will eliminate filings policy-making-VBG divisions such as sales marketing finance and research and development mr. lane said\n",
      "Euclidean: 3 the rules will eliminate filings policy-making-VBG divisions such as sales marketing finance and research and development mr. lane said\n",
      "Cosine: 3 the rules will eliminate filings policy-making-VBG divisions such as sales marketing finance and research and development mr. lane said \n",
      "\n",
      "i: considered as a whole mr. lane said the filings required under the proposed rules will be at least as effective if not more so for investors following transactions\n",
      "Euclidean: 4 considered as a whole mr. lane said the filings required under the proposed rules will be at least as effective if not more so for investors following transactions\n",
      "Cosine: 4 considered as a whole mr. lane said the filings required under the proposed rules will be at least as effective if not more so for investors following transactions \n",
      "\n",
      "i: the nation 's largest pension fund which oversees $ 80 billion for college employees plans to offer two new investment options to its 1.2 million participants\n",
      "Euclidean: 5 the nation 's largest pension fund which oversees $ 80 billion for college employees plans to offer two new investment options to its 1.2 million participants\n",
      "Cosine: 5 the nation 's largest pension fund which oversees $ 80 billion for college employees plans to offer two new investment options to its 1.2 million participants \n",
      "\n",
      "i: the new options carry out part of an agreement that the pension fund under pressure to relax its strict participation rules and to provide more investment options reached with the sec in december\n",
      "Euclidean: 6 the new options carry out part of an agreement that the pension fund under pressure to relax its strict participation rules and to provide more investment options reached with the sec in december\n",
      "Cosine: 6 the new options carry out part of an agreement that the pension fund under pressure to relax its strict participation rules and to provide more investment options reached with the sec in december \n",
      "\n",
      "i: the new social choice fund will shun-VB securities of companies linked to south africa nuclear power and in some cases northern ireland\n",
      "Euclidean: 7 the new social choice fund will shun-VB securities of companies linked to south africa nuclear power and in some cases northern ireland\n",
      "Cosine: 7 the new social choice fund will shun-VB securities of companies linked to south africa nuclear power and in some cases northern ireland \n",
      "\n",
      "i: also excluded will be investments in companies with significant business stemming from weapons manufacture alcoholic-JJ beverages-NNS or tobacco\n",
      "Euclidean: 8 also excluded will be investments in companies with significant business stemming from weapons manufacture alcoholic-JJ beverages-NNS or tobacco\n",
      "Cosine: 8 also excluded will be investments in companies with significant business stemming from weapons manufacture alcoholic-JJ beverages-NNS or tobacco \n",
      "\n",
      "i: the fund also might buy and sell futures and options contracts subject to approval by the new york state insurance department\n",
      "Euclidean: 9 the fund also might buy and sell futures and options contracts subject to approval by the new york state insurance department\n",
      "Cosine: 9 the fund also might buy and sell futures and options contracts subject to approval by the new york state insurance department \n",
      "\n",
      "i: then as if to show that he could play fast as well he offered the second movement from saint-saens-NNP 's sonata-UNK for clarinet-UNK a whimsical-JJ puckish-JJ tidbit-NN that reflected the flip-JJ side of the stoltzman personality\n",
      "Euclidean: 10 then as if to show that he could play fast as well he offered the second movement from saint-saens-NNP 's sonata-UNK for clarinet-UNK a whimsical-JJ puckish-JJ tidbit-NN that reflected the flip-JJ side of the stoltzman personality\n",
      "Cosine: 10 then as if to show that he could play fast as well he offered the second movement from saint-saens-NNP 's sonata-UNK for clarinet-UNK a whimsical-JJ puckish-JJ tidbit-NN that reflected the flip-JJ side of the stoltzman personality \n",
      "\n",
      "i: and so it went through the first half an ingeniously-RB chosen potpourri-NN of pieces none longer than five minutes none that would disturb or challenge a listener-NN\n",
      "Euclidean: 11 and so it went through the first half an ingeniously-RB chosen potpourri-NN of pieces none longer than five minutes none that would disturb or challenge a listener-NN\n",
      "Cosine: 11 and so it went through the first half an ingeniously-RB chosen potpourri-NN of pieces none longer than five minutes none that would disturb or challenge a listener-NN \n",
      "\n",
      "i: the end of the first half however brought what the standing-room-only-JJ crowd seemed to be waiting for the pop singer judy-NNP collins who appears on inner voices\n",
      "Euclidean: 12 the end of the first half however brought what the standing-room-only-JJ crowd seemed to be waiting for the pop singer judy-NNP collins who appears on inner voices\n",
      "Cosine: 12 the end of the first half however brought what the standing-room-only-JJ crowd seemed to be waiting for the pop singer judy-NNP collins who appears on inner voices \n",
      "\n",
      "i: it was all too mellow-JJ to be believed but they probably would have gotten away with it had they not felt compelled to add ms. collins 's signature tune amazing grace and ask for audience participation\n",
      "Euclidean: 13 it was all too mellow-JJ to be believed but they probably would have gotten away with it had they not felt compelled to add ms. collins 's signature tune amazing grace and ask for audience participation\n",
      "Cosine: 13 it was all too mellow-JJ to be believed but they probably would have gotten away with it had they not felt compelled to add ms. collins 's signature tune amazing grace and ask for audience participation \n",
      "\n",
      "i: -lrb- mr. reich-NNP 's new different trains for string quartet-NN uses the technique magisterially-UNK -rrb-\n",
      "Euclidean: 14 -lrb- mr. reich-NNP 's new different trains for string quartet-NN uses the technique magisterially-UNK -rrb-\n",
      "Cosine: 14 -lrb- mr. reich-NNP 's new different trains for string quartet-NN uses the technique magisterially-UNK -rrb- \n",
      "\n",
      "i: it was not an unpleasant-JJ evening certainly thanks to the high level of performance the compositional-JJ talents of mr. douglas and the obvious sincerity-NN with which mr. stoltzman chooses-VBZ his selections\n",
      "Euclidean: 15 it was not an unpleasant-JJ evening certainly thanks to the high level of performance the compositional-JJ talents of mr. douglas and the obvious sincerity-NN with which mr. stoltzman chooses-VBZ his selections\n",
      "Cosine: 15 it was not an unpleasant-JJ evening certainly thanks to the high level of performance the compositional-JJ talents of mr. douglas and the obvious sincerity-NN with which mr. stoltzman chooses-VBZ his selections \n",
      "\n",
      "i: one of ronald reagan 's attributes-NNS as president was that he rarely gave his blessing to the claptrap-NN that passes for consensus in various international institutions\n",
      "Euclidean: 16 one of ronald reagan 's attributes-NNS as president was that he rarely gave his blessing to the claptrap-NN that passes for consensus in various international institutions\n",
      "Cosine: 16 one of ronald reagan 's attributes-NNS as president was that he rarely gave his blessing to the claptrap-NN that passes for consensus in various international institutions \n",
      "\n",
      "i: ever since the remaining members have been desperate for the united states to rejoin-VB this dreadful-JJ group\n",
      "Euclidean: 17 ever since the remaining members have been desperate for the united states to rejoin-VB this dreadful-JJ group\n",
      "Cosine: 17 ever since the remaining members have been desperate for the united states to rejoin-VB this dreadful-JJ group \n",
      "\n",
      "i: now unesco apologists-NNS are lobbying president bush to renege-VB on president reagan 's decision to depart-UNK\n",
      "Euclidean: 18 now unesco apologists-NNS are lobbying president bush to renege-VB on president reagan 's decision to depart-UNK\n",
      "Cosine: 18 now unesco apologists-NNS are lobbying president bush to renege-VB on president reagan 's decision to depart-UNK \n",
      "\n",
      "i: unesco somehow converted the founding u.n. ideals-NNS of individual rights and liberty-NN into peoples ' rights\n",
      "Euclidean: 19 unesco somehow converted the founding u.n. ideals-NNS of individual rights and liberty-NN into peoples ' rights\n",
      "Cosine: 19 unesco somehow converted the founding u.n. ideals-NNS of individual rights and liberty-NN into peoples ' rights \n",
      "\n"
     ]
    }
   ],
   "source": [
    "for i in xrange(20):#len(sents)):\n",
    "    print 'i:',' '.join(sents[i])\n",
    "    j = np.argmin(eusimilarity[i])\n",
    "    print 'Euclidean:',i,' '.join(sents[j])\n",
    "    j = np.argmin(cossimilarity[i])\n",
    "    print 'Cosine:',j,' '.join(sents[j]),'\\n'"
   ]
  },
  {
   "cell_type": "code",
   "execution_count": 10,
   "metadata": {
    "collapsed": false
   },
   "outputs": [
    {
     "name": "stdout",
     "output_type": "stream",
     "text": [
      "[[ 0.          0.02551348  0.05538106 ...,  0.10920904  0.03994061\n",
      "   0.02236567]\n",
      " [ 0.02551348  0.          0.06628781 ...,  0.12111185  0.01924677\n",
      "   0.02323571]\n",
      " [ 0.05538106  0.06628781  0.         ...,  0.10352918  0.07978829\n",
      "   0.06428423]\n",
      " ..., \n",
      " [ 0.10920904  0.12111185  0.10352918 ...,  0.          0.11986503\n",
      "   0.12420586]\n",
      " [ 0.03994061  0.01924677  0.07978829 ...,  0.11986503  0.          0.03643581]\n",
      " [ 0.02236567  0.02323571  0.06428423 ...,  0.12420586  0.03643581  0.        ]]\n"
     ]
    }
   ],
   "source": [
    "print eusimilarity\n"
   ]
  },
  {
   "cell_type": "code",
   "execution_count": null,
   "metadata": {
    "collapsed": true
   },
   "outputs": [],
   "source": [
    "print "
   ]
  }
 ],
 "metadata": {
  "kernelspec": {
   "display_name": "Python 2",
   "language": "python",
   "name": "python2"
  },
  "language_info": {
   "codemirror_mode": {
    "name": "ipython",
    "version": 2
   },
   "file_extension": ".py",
   "mimetype": "text/x-python",
   "name": "python",
   "nbconvert_exporter": "python",
   "pygments_lexer": "ipython2",
   "version": "2.7.9"
  }
 },
 "nbformat": 4,
 "nbformat_minor": 0
}
