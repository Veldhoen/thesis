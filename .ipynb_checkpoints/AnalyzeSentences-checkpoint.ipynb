{
 "cells": [
  {
   "cell_type": "code",
   "execution_count": 43,
   "metadata": {
    "collapsed": true
   },
   "outputs": [],
   "source": [
    "import pickle\n",
    "import IORNN\n",
    "import naturalLogicCopy as NL\n",
    "import numpy as np"
   ]
  },
  {
   "cell_type": "code",
   "execution_count": 20,
   "metadata": {
    "collapsed": false
   },
   "outputs": [],
   "source": [
    "with open('data/WSJTREES.pik','rb') as f:\n",
    "    examples = pickle.load(f)\n",
    "testbit = examples['TEST']\n",
    "with open('data/WSJVOC.pik','rb') as f:\n",
    "    vocabulary = pickle.load(f)"
   ]
  },
  {
   "cell_type": "code",
   "execution_count": 27,
   "metadata": {
    "collapsed": false
   },
   "outputs": [],
   "source": [
    "nws = []\n",
    "for e in testbit:\n",
    "    leaves = e[0][0].leaves()\n",
    "    sentence = ' '.join([l.strip('\"') for l in leaves])\n",
    "    nws.append((NL.iornnFromTree(e[0][0],vocabulary),sentence))\n",
    "        "
   ]
  },
  {
   "cell_type": "code",
   "execution_count": 15,
   "metadata": {
    "collapsed": false
   },
   "outputs": [
    {
     "data": {
      "text/plain": [
       "(22923, 1486, 6010)"
      ]
     },
     "execution_count": 15,
     "metadata": {},
     "output_type": "execute_result"
    }
   ],
   "source": [
    "len(examples['TRAIN']),len(examples['TRIAL']),len(examples['TEST'])"
   ]
  },
  {
   "cell_type": "code",
   "execution_count": 28,
   "metadata": {
    "collapsed": false
   },
   "outputs": [
    {
     "data": {
      "text/plain": [
       "(<IORNN.Node instance at 0x0000000070F5C308>,\n",
       " 'Rolls-Royce Motor Cars Inc. said it expects its U.S. sales to remain steady at about 1,200 cars in 1990')"
      ]
     },
     "execution_count": 28,
     "metadata": {},
     "output_type": "execute_result"
    }
   ],
   "source": [
    "nw = nws[0][0]\n",
    "s = nws[0][1]\n",
    "nw,s"
   ]
  },
  {
   "cell_type": "code",
   "execution_count": 29,
   "metadata": {
    "collapsed": true
   },
   "outputs": [],
   "source": [
    "with open('data/sickSampleTREES.pik','rb') as f:\n",
    "    trees = pickle.load(f)\n",
    "with open('models/sickSample001SENTENCES.pik','rb') as f:\n",
    "    sentences = pickle.load(f)\n",
    "with open('models/sickSample001VOC.pik','rb') as f:\n",
    "    vocabulary = pickle.load(f)\n",
    "with open('models/sickSample001THETA.pik','rb') as f:\n",
    "    theta = pickle.load(f)\n"
   ]
  },
  {
   "cell_type": "code",
   "execution_count": 46,
   "metadata": {
    "collapsed": false
   },
   "outputs": [],
   "source": [
    "#trees['TEST'][0]\n",
    "sents = [s[0] for s in sentences]\n",
    "embs = [s[1] for s in sentences]\n",
    "similarity = np.ones((len(sents),len(sents)))\n",
    "for i in xrange(len(sents)):\n",
    "    for j in xrange(i,len(sents)):\n",
    "        d = numpy.linalg.norm(embs[i]-embs[j])\n",
    "        similarity[i][j] = d\n",
    "        similarity[j][i] = d\n",
    "similarity"
   ]
  },
  {
   "cell_type": "code",
   "execution_count": null,
   "metadata": {
    "collapsed": true
   },
   "outputs": [],
   "source": []
  }
 ],
 "metadata": {
  "kernelspec": {
   "display_name": "Python 2",
   "language": "python",
   "name": "python2"
  },
  "language_info": {
   "codemirror_mode": {
    "name": "ipython",
    "version": 2
   },
   "file_extension": ".py",
   "mimetype": "text/x-python",
   "name": "python",
   "nbconvert_exporter": "python",
   "pygments_lexer": "ipython2",
   "version": "2.7.9"
  }
 },
 "nbformat": 4,
 "nbformat_minor": 0
}
